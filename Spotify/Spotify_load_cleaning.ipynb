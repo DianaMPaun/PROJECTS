{
 "cells": [
  {
   "cell_type": "markdown",
   "id": "0e983ea1",
   "metadata": {},
   "source": [
    "# Import libraries"
   ]
  },
  {
   "cell_type": "code",
   "execution_count": 1,
   "id": "7adf024d",
   "metadata": {},
   "outputs": [],
   "source": [
    "import pandas as pd"
   ]
  },
  {
   "cell_type": "markdown",
   "id": "326948b9",
   "metadata": {},
   "source": [
    "# Load data"
   ]
  },
  {
   "cell_type": "code",
   "execution_count": 2,
   "id": "913cc7a8",
   "metadata": {},
   "outputs": [
    {
     "data": {
      "text/html": [
       "<div>\n",
       "<style scoped>\n",
       "    .dataframe tbody tr th:only-of-type {\n",
       "        vertical-align: middle;\n",
       "    }\n",
       "\n",
       "    .dataframe tbody tr th {\n",
       "        vertical-align: top;\n",
       "    }\n",
       "\n",
       "    .dataframe thead th {\n",
       "        text-align: right;\n",
       "    }\n",
       "</style>\n",
       "<table border=\"1\" class=\"dataframe\">\n",
       "  <thead>\n",
       "    <tr style=\"text-align: right;\">\n",
       "      <th></th>\n",
       "      <th>Index</th>\n",
       "      <th>Title</th>\n",
       "      <th>Artist</th>\n",
       "      <th>Top Genre</th>\n",
       "      <th>Year</th>\n",
       "      <th>Beats Per Minute (BPM)</th>\n",
       "      <th>Energy</th>\n",
       "      <th>Danceability</th>\n",
       "      <th>Loudness (dB)</th>\n",
       "      <th>Liveness</th>\n",
       "      <th>Valence</th>\n",
       "      <th>Length (Duration)</th>\n",
       "      <th>Acousticness</th>\n",
       "      <th>Speechiness</th>\n",
       "      <th>Popularity</th>\n",
       "    </tr>\n",
       "  </thead>\n",
       "  <tbody>\n",
       "    <tr>\n",
       "      <th>0</th>\n",
       "      <td>1</td>\n",
       "      <td>Sunrise</td>\n",
       "      <td>Norah Jones</td>\n",
       "      <td>adult standards</td>\n",
       "      <td>2004</td>\n",
       "      <td>157</td>\n",
       "      <td>30</td>\n",
       "      <td>53</td>\n",
       "      <td>-14</td>\n",
       "      <td>11</td>\n",
       "      <td>68</td>\n",
       "      <td>201</td>\n",
       "      <td>94</td>\n",
       "      <td>3</td>\n",
       "      <td>71</td>\n",
       "    </tr>\n",
       "    <tr>\n",
       "      <th>1</th>\n",
       "      <td>2</td>\n",
       "      <td>Black Night</td>\n",
       "      <td>Deep Purple</td>\n",
       "      <td>album rock</td>\n",
       "      <td>2000</td>\n",
       "      <td>135</td>\n",
       "      <td>79</td>\n",
       "      <td>50</td>\n",
       "      <td>-11</td>\n",
       "      <td>17</td>\n",
       "      <td>81</td>\n",
       "      <td>207</td>\n",
       "      <td>17</td>\n",
       "      <td>7</td>\n",
       "      <td>39</td>\n",
       "    </tr>\n",
       "    <tr>\n",
       "      <th>2</th>\n",
       "      <td>3</td>\n",
       "      <td>Clint Eastwood</td>\n",
       "      <td>Gorillaz</td>\n",
       "      <td>alternative hip hop</td>\n",
       "      <td>2001</td>\n",
       "      <td>168</td>\n",
       "      <td>69</td>\n",
       "      <td>66</td>\n",
       "      <td>-9</td>\n",
       "      <td>7</td>\n",
       "      <td>52</td>\n",
       "      <td>341</td>\n",
       "      <td>2</td>\n",
       "      <td>17</td>\n",
       "      <td>69</td>\n",
       "    </tr>\n",
       "    <tr>\n",
       "      <th>3</th>\n",
       "      <td>4</td>\n",
       "      <td>The Pretender</td>\n",
       "      <td>Foo Fighters</td>\n",
       "      <td>alternative metal</td>\n",
       "      <td>2007</td>\n",
       "      <td>173</td>\n",
       "      <td>96</td>\n",
       "      <td>43</td>\n",
       "      <td>-4</td>\n",
       "      <td>3</td>\n",
       "      <td>37</td>\n",
       "      <td>269</td>\n",
       "      <td>0</td>\n",
       "      <td>4</td>\n",
       "      <td>76</td>\n",
       "    </tr>\n",
       "    <tr>\n",
       "      <th>4</th>\n",
       "      <td>5</td>\n",
       "      <td>Waitin' On A Sunny Day</td>\n",
       "      <td>Bruce Springsteen</td>\n",
       "      <td>classic rock</td>\n",
       "      <td>2002</td>\n",
       "      <td>106</td>\n",
       "      <td>82</td>\n",
       "      <td>58</td>\n",
       "      <td>-5</td>\n",
       "      <td>10</td>\n",
       "      <td>87</td>\n",
       "      <td>256</td>\n",
       "      <td>1</td>\n",
       "      <td>3</td>\n",
       "      <td>59</td>\n",
       "    </tr>\n",
       "    <tr>\n",
       "      <th>...</th>\n",
       "      <td>...</td>\n",
       "      <td>...</td>\n",
       "      <td>...</td>\n",
       "      <td>...</td>\n",
       "      <td>...</td>\n",
       "      <td>...</td>\n",
       "      <td>...</td>\n",
       "      <td>...</td>\n",
       "      <td>...</td>\n",
       "      <td>...</td>\n",
       "      <td>...</td>\n",
       "      <td>...</td>\n",
       "      <td>...</td>\n",
       "      <td>...</td>\n",
       "      <td>...</td>\n",
       "    </tr>\n",
       "    <tr>\n",
       "      <th>1989</th>\n",
       "      <td>1990</td>\n",
       "      <td>Heartbreak Hotel</td>\n",
       "      <td>Elvis Presley</td>\n",
       "      <td>adult standards</td>\n",
       "      <td>1958</td>\n",
       "      <td>94</td>\n",
       "      <td>21</td>\n",
       "      <td>70</td>\n",
       "      <td>-12</td>\n",
       "      <td>11</td>\n",
       "      <td>72</td>\n",
       "      <td>128</td>\n",
       "      <td>84</td>\n",
       "      <td>7</td>\n",
       "      <td>63</td>\n",
       "    </tr>\n",
       "    <tr>\n",
       "      <th>1990</th>\n",
       "      <td>1991</td>\n",
       "      <td>Hound Dog</td>\n",
       "      <td>Elvis Presley</td>\n",
       "      <td>adult standards</td>\n",
       "      <td>1958</td>\n",
       "      <td>175</td>\n",
       "      <td>76</td>\n",
       "      <td>36</td>\n",
       "      <td>-8</td>\n",
       "      <td>76</td>\n",
       "      <td>95</td>\n",
       "      <td>136</td>\n",
       "      <td>73</td>\n",
       "      <td>6</td>\n",
       "      <td>69</td>\n",
       "    </tr>\n",
       "    <tr>\n",
       "      <th>1991</th>\n",
       "      <td>1992</td>\n",
       "      <td>Johnny B. Goode</td>\n",
       "      <td>Chuck Berry</td>\n",
       "      <td>blues rock</td>\n",
       "      <td>1959</td>\n",
       "      <td>168</td>\n",
       "      <td>80</td>\n",
       "      <td>53</td>\n",
       "      <td>-9</td>\n",
       "      <td>31</td>\n",
       "      <td>97</td>\n",
       "      <td>162</td>\n",
       "      <td>74</td>\n",
       "      <td>7</td>\n",
       "      <td>74</td>\n",
       "    </tr>\n",
       "    <tr>\n",
       "      <th>1992</th>\n",
       "      <td>1993</td>\n",
       "      <td>Take Five</td>\n",
       "      <td>The Dave Brubeck Quartet</td>\n",
       "      <td>bebop</td>\n",
       "      <td>1959</td>\n",
       "      <td>174</td>\n",
       "      <td>26</td>\n",
       "      <td>45</td>\n",
       "      <td>-13</td>\n",
       "      <td>7</td>\n",
       "      <td>60</td>\n",
       "      <td>324</td>\n",
       "      <td>54</td>\n",
       "      <td>4</td>\n",
       "      <td>65</td>\n",
       "    </tr>\n",
       "    <tr>\n",
       "      <th>1993</th>\n",
       "      <td>1994</td>\n",
       "      <td>Blueberry Hill</td>\n",
       "      <td>Fats Domino</td>\n",
       "      <td>adult standards</td>\n",
       "      <td>1959</td>\n",
       "      <td>133</td>\n",
       "      <td>50</td>\n",
       "      <td>49</td>\n",
       "      <td>-10</td>\n",
       "      <td>16</td>\n",
       "      <td>83</td>\n",
       "      <td>148</td>\n",
       "      <td>74</td>\n",
       "      <td>3</td>\n",
       "      <td>56</td>\n",
       "    </tr>\n",
       "  </tbody>\n",
       "</table>\n",
       "<p>1994 rows × 15 columns</p>\n",
       "</div>"
      ],
      "text/plain": [
       "      Index                   Title                    Artist  \\\n",
       "0         1                 Sunrise               Norah Jones   \n",
       "1         2             Black Night               Deep Purple   \n",
       "2         3          Clint Eastwood                  Gorillaz   \n",
       "3         4           The Pretender              Foo Fighters   \n",
       "4         5  Waitin' On A Sunny Day         Bruce Springsteen   \n",
       "...     ...                     ...                       ...   \n",
       "1989   1990        Heartbreak Hotel             Elvis Presley   \n",
       "1990   1991               Hound Dog             Elvis Presley   \n",
       "1991   1992         Johnny B. Goode               Chuck Berry   \n",
       "1992   1993               Take Five  The Dave Brubeck Quartet   \n",
       "1993   1994          Blueberry Hill               Fats Domino   \n",
       "\n",
       "                Top Genre  Year  Beats Per Minute (BPM)  Energy  Danceability  \\\n",
       "0         adult standards  2004                     157      30            53   \n",
       "1              album rock  2000                     135      79            50   \n",
       "2     alternative hip hop  2001                     168      69            66   \n",
       "3       alternative metal  2007                     173      96            43   \n",
       "4            classic rock  2002                     106      82            58   \n",
       "...                   ...   ...                     ...     ...           ...   \n",
       "1989      adult standards  1958                      94      21            70   \n",
       "1990      adult standards  1958                     175      76            36   \n",
       "1991           blues rock  1959                     168      80            53   \n",
       "1992                bebop  1959                     174      26            45   \n",
       "1993      adult standards  1959                     133      50            49   \n",
       "\n",
       "      Loudness (dB)  Liveness  Valence Length (Duration)  Acousticness  \\\n",
       "0               -14        11       68               201            94   \n",
       "1               -11        17       81               207            17   \n",
       "2                -9         7       52               341             2   \n",
       "3                -4         3       37               269             0   \n",
       "4                -5        10       87               256             1   \n",
       "...             ...       ...      ...               ...           ...   \n",
       "1989            -12        11       72               128            84   \n",
       "1990             -8        76       95               136            73   \n",
       "1991             -9        31       97               162            74   \n",
       "1992            -13         7       60               324            54   \n",
       "1993            -10        16       83               148            74   \n",
       "\n",
       "      Speechiness  Popularity  \n",
       "0               3          71  \n",
       "1               7          39  \n",
       "2              17          69  \n",
       "3               4          76  \n",
       "4               3          59  \n",
       "...           ...         ...  \n",
       "1989            7          63  \n",
       "1990            6          69  \n",
       "1991            7          74  \n",
       "1992            4          65  \n",
       "1993            3          56  \n",
       "\n",
       "[1994 rows x 15 columns]"
      ]
     },
     "execution_count": 2,
     "metadata": {},
     "output_type": "execute_result"
    }
   ],
   "source": [
    "spotify = pd.read_csv(\"Spotify-2000.csv\")\n",
    "spotify"
   ]
  },
  {
   "cell_type": "markdown",
   "id": "c417fc7a",
   "metadata": {},
   "source": [
    "- Index: ID\n",
    "- Title: Name of the Track.\n",
    "- Artist: Name of the Artist.\n",
    "- Top Genre: Genre of the track.\n",
    "- Year: Release Year of the track.\n",
    "- Beats per Minute(BPM): The tempo of the song.\n",
    "- Energy: The energy of a song - the higher the value, the more energtic song.\n",
    "- Danceability: The higher the value, the easier it is to dance to this song.\n",
    "- Loudness: The higher the value, the louder the song.\n",
    "- Valence: The higher the value, the more positive mood for the song.\n",
    "- Length: The duration of the song in seconds.\n",
    "- Acoustic: The higher the value the more acoustic the song is.\n",
    "- Speechiness: The higher the value the more spoken words the song contains.\n",
    "- Popularity: The higher the value the more popular the song is."
   ]
  },
  {
   "cell_type": "code",
   "execution_count": 3,
   "id": "e76a81f1",
   "metadata": {},
   "outputs": [
    {
     "data": {
      "text/plain": [
       "(1994, 15)"
      ]
     },
     "execution_count": 3,
     "metadata": {},
     "output_type": "execute_result"
    }
   ],
   "source": [
    "spotify.shape"
   ]
  },
  {
   "cell_type": "code",
   "execution_count": 4,
   "id": "06c170f3",
   "metadata": {},
   "outputs": [
    {
     "name": "stdout",
     "output_type": "stream",
     "text": [
      "<class 'pandas.core.frame.DataFrame'>\n",
      "RangeIndex: 1994 entries, 0 to 1993\n",
      "Data columns (total 15 columns):\n",
      " #   Column                  Non-Null Count  Dtype \n",
      "---  ------                  --------------  ----- \n",
      " 0   Index                   1994 non-null   int64 \n",
      " 1   Title                   1994 non-null   object\n",
      " 2   Artist                  1994 non-null   object\n",
      " 3   Top Genre               1994 non-null   object\n",
      " 4   Year                    1994 non-null   int64 \n",
      " 5   Beats Per Minute (BPM)  1994 non-null   int64 \n",
      " 6   Energy                  1994 non-null   int64 \n",
      " 7   Danceability            1994 non-null   int64 \n",
      " 8   Loudness (dB)           1994 non-null   int64 \n",
      " 9   Liveness                1994 non-null   int64 \n",
      " 10  Valence                 1994 non-null   int64 \n",
      " 11  Length (Duration)       1994 non-null   object\n",
      " 12  Acousticness            1994 non-null   int64 \n",
      " 13  Speechiness             1994 non-null   int64 \n",
      " 14  Popularity              1994 non-null   int64 \n",
      "dtypes: int64(11), object(4)\n",
      "memory usage: 233.8+ KB\n"
     ]
    }
   ],
   "source": [
    "spotify.info()"
   ]
  },
  {
   "cell_type": "markdown",
   "id": "5326b840",
   "metadata": {},
   "source": [
    "# Cleaning and Formatting"
   ]
  },
  {
   "cell_type": "code",
   "execution_count": 5,
   "id": "daad962e",
   "metadata": {},
   "outputs": [
    {
     "data": {
      "text/plain": [
       "Index                     0\n",
       "Title                     0\n",
       "Artist                    0\n",
       "Top Genre                 0\n",
       "Year                      0\n",
       "Beats Per Minute (BPM)    0\n",
       "Energy                    0\n",
       "Danceability              0\n",
       "Loudness (dB)             0\n",
       "Liveness                  0\n",
       "Valence                   0\n",
       "Length (Duration)         0\n",
       "Acousticness              0\n",
       "Speechiness               0\n",
       "Popularity                0\n",
       "dtype: int64"
      ]
     },
     "execution_count": 5,
     "metadata": {},
     "output_type": "execute_result"
    }
   ],
   "source": [
    "spotify.isnull().sum()"
   ]
  },
  {
   "cell_type": "code",
   "execution_count": 6,
   "id": "ba6e0d75",
   "metadata": {},
   "outputs": [
    {
     "data": {
      "text/plain": [
       "0"
      ]
     },
     "execution_count": 6,
     "metadata": {},
     "output_type": "execute_result"
    }
   ],
   "source": [
    "spotify.duplicated().sum()"
   ]
  },
  {
   "cell_type": "markdown",
   "id": "420ae937",
   "metadata": {},
   "source": [
    "## Title column"
   ]
  },
  {
   "cell_type": "code",
   "execution_count": 7,
   "id": "b050a35d",
   "metadata": {},
   "outputs": [
    {
     "data": {
      "text/plain": [
       "0                   Sunrise\n",
       "1               Black Night\n",
       "2            Clint Eastwood\n",
       "3             The Pretender\n",
       "4    Waitin' On A Sunny Day\n",
       "Name: Title, dtype: object"
      ]
     },
     "execution_count": 7,
     "metadata": {},
     "output_type": "execute_result"
    }
   ],
   "source": [
    "spotify[\"Title\"].head()"
   ]
  },
  {
   "cell_type": "code",
   "execution_count": 8,
   "id": "d1046497",
   "metadata": {},
   "outputs": [
    {
     "data": {
      "text/plain": [
       "0                      Sunrise\n",
       "1                  Black Night\n",
       "2               Clint Eastwood\n",
       "3                The Pretender\n",
       "4       Waitin' On A Sunny Day\n",
       "                 ...          \n",
       "1989          Heartbreak Hotel\n",
       "1990                 Hound Dog\n",
       "1991           Johnny B. Goode\n",
       "1992                 Take Five\n",
       "1993            Blueberry Hill\n",
       "Name: Title, Length: 1994, dtype: object"
      ]
     },
     "execution_count": 8,
     "metadata": {},
     "output_type": "execute_result"
    }
   ],
   "source": [
    "spotify[\"Title\"].str.title()"
   ]
  },
  {
   "cell_type": "markdown",
   "id": "ec166464",
   "metadata": {},
   "source": [
    "## Artist column"
   ]
  },
  {
   "cell_type": "code",
   "execution_count": 9,
   "id": "b3026a42",
   "metadata": {},
   "outputs": [
    {
     "data": {
      "text/plain": [
       "0                    Norah Jones\n",
       "1                    Deep Purple\n",
       "2                       Gorillaz\n",
       "3                   Foo Fighters\n",
       "4              Bruce Springsteen\n",
       "                  ...           \n",
       "1989               Elvis Presley\n",
       "1990               Elvis Presley\n",
       "1991                 Chuck Berry\n",
       "1992    The Dave Brubeck Quartet\n",
       "1993                 Fats Domino\n",
       "Name: Artist, Length: 1994, dtype: object"
      ]
     },
     "execution_count": 9,
     "metadata": {},
     "output_type": "execute_result"
    }
   ],
   "source": [
    "spotify[\"Artist\"]"
   ]
  },
  {
   "cell_type": "code",
   "execution_count": 10,
   "id": "489c18d8",
   "metadata": {},
   "outputs": [
    {
     "data": {
      "text/plain": [
       "0                    Norah Jones\n",
       "1                    Deep Purple\n",
       "2                       Gorillaz\n",
       "3                   Foo Fighters\n",
       "4              Bruce Springsteen\n",
       "                  ...           \n",
       "1989               Elvis Presley\n",
       "1990               Elvis Presley\n",
       "1991                 Chuck Berry\n",
       "1992    The Dave Brubeck Quartet\n",
       "1993                 Fats Domino\n",
       "Name: Artist, Length: 1994, dtype: object"
      ]
     },
     "execution_count": 10,
     "metadata": {},
     "output_type": "execute_result"
    }
   ],
   "source": [
    "spotify[\"Artist\"].str.title()"
   ]
  },
  {
   "cell_type": "markdown",
   "id": "3d671b9a",
   "metadata": {},
   "source": [
    "## Top Genre"
   ]
  },
  {
   "cell_type": "code",
   "execution_count": 11,
   "id": "e33b3574",
   "metadata": {},
   "outputs": [
    {
     "data": {
      "text/plain": [
       "0           adult standards\n",
       "1                album rock\n",
       "2       alternative hip hop\n",
       "3         alternative metal\n",
       "4              classic rock\n",
       "               ...         \n",
       "1989        adult standards\n",
       "1990        adult standards\n",
       "1991             blues rock\n",
       "1992                  bebop\n",
       "1993        adult standards\n",
       "Name: Top Genre, Length: 1994, dtype: object"
      ]
     },
     "execution_count": 11,
     "metadata": {},
     "output_type": "execute_result"
    }
   ],
   "source": [
    "spotify[\"Top Genre\"]"
   ]
  },
  {
   "cell_type": "code",
   "execution_count": 12,
   "id": "7014b4ce",
   "metadata": {},
   "outputs": [
    {
     "data": {
      "text/plain": [
       "array(['adult standards', 'album rock', 'alternative hip hop',\n",
       "       'alternative metal', 'classic rock', 'alternative pop rock', 'pop',\n",
       "       'modern rock', 'detroit hip hop', 'alternative rock',\n",
       "       'dutch indie', 'garage rock', 'dutch cabaret', 'permanent wave',\n",
       "       'classic uk pop', 'dance pop', 'modern folk rock', 'dutch pop',\n",
       "       'dutch americana', 'alternative dance', 'german pop', 'afropop',\n",
       "       'british soul', 'irish rock', 'disco', 'big room', 'art rock',\n",
       "       'danish pop rock', 'neo mellow', 'britpop', 'boy band',\n",
       "       'carnaval limburg', 'arkansas country', 'latin alternative',\n",
       "       'british folk', 'celtic', 'chanson', 'celtic rock', 'hip pop',\n",
       "       'east coast hip hop', 'dutch rock', 'blues rock', 'electro',\n",
       "       'australian pop', 'belgian rock', 'downtempo', 'reggae fusion',\n",
       "       'british invasion', 'finnish metal', 'canadian pop', 'bow pop',\n",
       "       'dutch hip hop', 'dutch metal', 'soft rock', 'acoustic pop',\n",
       "       'acid jazz', 'dutch prog', 'candy pop', 'operatic pop', 'trance',\n",
       "       'scottish singer-songwriter', 'mellow gold', 'alternative pop',\n",
       "       'dance rock', 'atl hip hop', 'eurodance', 'blues', 'canadian folk',\n",
       "       'big beat', 'art pop', 'uk pop', 'glam metal',\n",
       "       'brill building pop', 'g funk', 'happy hardcore', 'belgian pop',\n",
       "       'classic schlager', 'contemporary country', 'barbadian pop',\n",
       "       'gabba', 'chamber pop', 'british singer-songwriter', 'indie pop',\n",
       "       'australian rock', 'nederpop', 'australian indie folk', 'folk-pop',\n",
       "       'electropop', 'edm', 'metropopolis', 'irish pop', 'electronica',\n",
       "       'alaska indie', 'irish singer-songwriter', 'stomp and holler',\n",
       "       'australian dance', 'australian psych', 'laboratorio',\n",
       "       'contemporary vocal jazz', 'rock-and-roll', 'glam rock',\n",
       "       'classic soundtrack', 'icelandic indie', 'danish pop',\n",
       "       'compositional ambient', 'neo soul', 'streektaal', 'italian pop',\n",
       "       'indie anthem-folk', 'la pop', 'baroque pop', 'ccm',\n",
       "       'electro house', 'austropop', 'australian americana', 'latin',\n",
       "       'chicago soul', 'classic soul', 'bubblegum pop',\n",
       "       'classic country pop', 'europop', 'hard rock', 'reggae', 'j-core',\n",
       "       'funk', 'folk', 'punk', 'basshall', 'australian alternative rock',\n",
       "       'yacht rock', 'alternative country', 'celtic punk', 'new wave pop',\n",
       "       'classic canadian rock', 'christelijk', 'levenslied', 'cyberpunk',\n",
       "       'gangster rap', 'diva house', 'classical rock', 'canadian rock',\n",
       "       'german pop rock', 'british alternative rock', 'latin jazz',\n",
       "       'german alternative rock', 'classic italian pop', 'pop punk',\n",
       "       'motown', 'bebop'], dtype=object)"
      ]
     },
     "execution_count": 12,
     "metadata": {},
     "output_type": "execute_result"
    }
   ],
   "source": [
    "spotify[\"Top Genre\"].unique()"
   ]
  },
  {
   "cell_type": "code",
   "execution_count": 13,
   "id": "e3c351d0",
   "metadata": {},
   "outputs": [],
   "source": [
    "genre_mapping = {\n",
    "    # Rock-related genres\n",
    "    'album rock': 'Rock',\n",
    "    'alternative rock': 'Rock',\n",
    "    'art rock': 'Rock',\n",
    "    'australian rock': 'Rock',\n",
    "    'australian alternative rock': 'Rock',\n",
    "    'belgian rock': 'Rock',\n",
    "    'britpop': 'Rock',\n",
    "    'british alternative rock': 'Rock',\n",
    "    'blues rock': 'Rock',\n",
    "    'canadian rock': 'Rock',\n",
    "    'celtic rock': 'Rock',\n",
    "    'classic rock': 'Rock',\n",
    "    'classical rock': 'Rock',\n",
    "    'classic canadian rock': 'Rock',\n",
    "    'dance rock': 'Rock',\n",
    "    'danish pop rock': 'Rock',\n",
    "    'dutch rock': 'Rock',\n",
    "    'garage rock': 'Rock',\n",
    "    'german pop rock': 'Rock',\n",
    "    'german alternative rock': 'Rock',\n",
    "    'glam rock': 'Rock',\n",
    "    'hard rock': 'Rock',\n",
    "    'indie anthem-folk': 'Rock',\n",
    "    'irish rock': 'Rock',\n",
    "    'soft rock': 'Rock',\n",
    "    'punk': 'Rock',\n",
    "    'indie pop': 'Rock',\n",
    "    'indie anthem-folk': 'Rock',\n",
    "    'modern rock': 'Rock',\n",
    "    'modern folk rock': 'Rock',\n",
    "    'rock-and-roll': 'Rock',\n",
    "    'soft rock': 'Rock',\n",
    "    'yacht rock': 'Rock',\n",
    "    \n",
    "\n",
    "    # Pop-related genres\n",
    "    \n",
    "    'acoustic pop': 'Pop',\n",
    "    'adult standards': 'Pop',\n",
    "    'alternative pop': 'Pop',\n",
    "    'alternative pop rock': 'Pop',\n",
    "    'australian pop': 'Pop',\n",
    "    'australian indie folk': 'Pop',\n",
    "    'art pop': 'Pop',\n",
    "    'austropop': 'Pop',\n",
    "    'barbadian pop': 'Pop',\n",
    "    'baroque pop': 'Pop',\n",
    "    'belgian pop': 'Pop',\n",
    "    'boy band': 'Pop',\n",
    "    'brill building pop': 'Pop',\n",
    "    'britpop': 'Pop',\n",
    "    'bubblegum pop': 'Pop',\n",
    "    'canadian pop': 'Pop',\n",
    "    'candy pop': 'Pop',\n",
    "    'classic italian pop': 'Pop',\n",
    "    'classic country pop': 'Pop',\n",
    "    'classic uk pop': 'Pop',\n",
    "    'chamber pop': 'Pop',\n",
    "    'dance pop': 'Pop',\n",
    "    'dutch pop': 'Pop',\n",
    "    'dutch indie': 'Pop',\n",
    "    'dutch cabaret': 'Pop',\n",
    "    'danish pop': 'Pop',\n",
    "    'electropop': 'Pop',\n",
    "    'europop': 'Pop',\n",
    "    'folk-pop': 'Pop',\n",
    "    'german pop': 'Pop',\n",
    "    'indie pop': 'Pop',\n",
    "    'irish pop': 'Pop',\n",
    "    'italian pop': 'Pop',\n",
    "    'la pop': 'Pop',\n",
    "    'latin pop': 'Pop',\n",
    "    'metropopolis': 'Pop',\n",
    "    'nederpop': 'Pop',\n",
    "    'neo mellow': 'Pop',\n",
    "    'new wave pop': 'Pop',\n",
    "    'operatic pop': 'Pop',\n",
    "    'pop': 'Pop',\n",
    "    'uk pop': 'Pop',\n",
    "    \n",
    "     # Alternative/Indie\n",
    "    'australian psych': 'Indie',\n",
    "    'icelandic indie': 'Indie',\n",
    "    'alaska indie': 'Indie',\n",
    "    'mellow gold': 'Indie',\n",
    "\n",
    "    # Hip Hop and Rap\n",
    "    'alternative hip hop': 'Hip Hop',\n",
    "    'east coast hip hop': 'Hip Hop',\n",
    "    'atl hip hop': 'Hip Hop',\n",
    "    'detroit hip hop': 'Hip Hop',\n",
    "    'dutch hip hop': 'Hip Hop',\n",
    "    'gangster rap': 'Hip Hop',\n",
    "    'hip pop': 'Hip Hop',\n",
    "    'g funk': 'Hip Hop',\n",
    "\n",
    "    # Electronic and Dance\n",
    "    'acid jazz': 'Electronic',\n",
    "    'alternative dance': 'Electronic',\n",
    "    'big beat': 'Electronic',\n",
    "    'big room': 'Electronic',\n",
    "    'diva house': 'Electronic',\n",
    "    'downtempo': 'Electronic',\n",
    "    'eurodance': 'Electronic',\n",
    "    'electro': 'Electronic',\n",
    "    'edm': 'Electronic',\n",
    "    'electro house': 'Electronic',\n",
    "    'electronica': 'Electronic',\n",
    "    'happy hardcore': 'Electronic',\n",
    "    'trance': 'Electronic',\n",
    "\n",
    "    # Country\n",
    "    'classic country pop': 'Country',\n",
    "    'alternative country': 'Country',\n",
    "    'contemporary country': 'Country',\n",
    "    'arkansas country': 'Country',\n",
    "    'irish singer-songwriter': 'Country',\n",
    "    'scottish singer-songwriter': 'Country',\n",
    "\n",
    "    # Folk and Acoustic\n",
    "    'folk': 'Folk',\n",
    "    'celtic': 'Folk',\n",
    "    'canadian folk': 'Folk',\n",
    "    'british folk': 'Folk',\n",
    "    'irish rock': 'Folk',\n",
    "    'irish pop': 'Folk',\n",
    "    'folk-pop': 'Folk',\n",
    "    'australian indie folk': 'Folk',\n",
    "    'stomp and holler': 'Folk',\n",
    "\n",
    "    # Jazz and Soul\n",
    "    'neo soul': 'Soul',\n",
    "    'bebop': 'Jazz',\n",
    "    'british soul': 'Soul',\n",
    "    'chicago soul': 'Soul',\n",
    "    'classic soul': 'Soul',\n",
    "    'contemporary vocal jazz': 'Jazz',\n",
    "    'funk': 'Soul',\n",
    "    'latin jazz': 'Jazz',\n",
    "    'acid jazz': 'Jazz',\n",
    "    \n",
    "    # Metal\n",
    "    'alternative metal': 'Metal',\n",
    "    'finnish metal': 'Metal',\n",
    "    'dutch metal': 'Metal',\n",
    "    'glam metal': 'Metal',\n",
    "    \n",
    "    \n",
    "    # Reggae\n",
    "    'reggae': 'Reggae',\n",
    "    'reggae fusion': 'Reggae',\n",
    "\n",
    "    # Miscellaneous\n",
    "    'latin': 'Latin',\n",
    "    'disco': 'Disco',\n",
    "    'motown': 'Soul',\n",
    "    'blues': 'Blues',\n",
    "    'funk': 'Funk',\n",
    "    'cyberpunk': 'Electronic',\n",
    "    \n",
    "    # World/Regional\n",
    "    'carnaval limburg': 'World/Regional',\n",
    "    'streektaal': 'World/Regional',\n",
    "    'levenslied': 'World/Regional',\n",
    "    'christelijk': 'World/Regional',\n",
    "    'laboratorio': 'World/Regional',\n",
    "    'dutch americana': 'World/Regional',\n",
    "    'australian americana': 'World/Regional',\n",
    "}\n",
    "\n",
    "# Default category for unmapped genres\n",
    "default_category = 'Other'"
   ]
  },
  {
   "cell_type": "code",
   "execution_count": 14,
   "id": "3ffe4a1f",
   "metadata": {},
   "outputs": [
    {
     "data": {
      "text/html": [
       "<div>\n",
       "<style scoped>\n",
       "    .dataframe tbody tr th:only-of-type {\n",
       "        vertical-align: middle;\n",
       "    }\n",
       "\n",
       "    .dataframe tbody tr th {\n",
       "        vertical-align: top;\n",
       "    }\n",
       "\n",
       "    .dataframe thead th {\n",
       "        text-align: right;\n",
       "    }\n",
       "</style>\n",
       "<table border=\"1\" class=\"dataframe\">\n",
       "  <thead>\n",
       "    <tr style=\"text-align: right;\">\n",
       "      <th></th>\n",
       "      <th>Index</th>\n",
       "      <th>Title</th>\n",
       "      <th>Artist</th>\n",
       "      <th>Top Genre</th>\n",
       "      <th>Year</th>\n",
       "      <th>Beats Per Minute (BPM)</th>\n",
       "      <th>Energy</th>\n",
       "      <th>Danceability</th>\n",
       "      <th>Loudness (dB)</th>\n",
       "      <th>Liveness</th>\n",
       "      <th>Valence</th>\n",
       "      <th>Length (Duration)</th>\n",
       "      <th>Acousticness</th>\n",
       "      <th>Speechiness</th>\n",
       "      <th>Popularity</th>\n",
       "      <th>Genre</th>\n",
       "    </tr>\n",
       "  </thead>\n",
       "  <tbody>\n",
       "    <tr>\n",
       "      <th>0</th>\n",
       "      <td>1</td>\n",
       "      <td>Sunrise</td>\n",
       "      <td>Norah Jones</td>\n",
       "      <td>adult standards</td>\n",
       "      <td>2004</td>\n",
       "      <td>157</td>\n",
       "      <td>30</td>\n",
       "      <td>53</td>\n",
       "      <td>-14</td>\n",
       "      <td>11</td>\n",
       "      <td>68</td>\n",
       "      <td>201</td>\n",
       "      <td>94</td>\n",
       "      <td>3</td>\n",
       "      <td>71</td>\n",
       "      <td>Pop</td>\n",
       "    </tr>\n",
       "    <tr>\n",
       "      <th>1</th>\n",
       "      <td>2</td>\n",
       "      <td>Black Night</td>\n",
       "      <td>Deep Purple</td>\n",
       "      <td>album rock</td>\n",
       "      <td>2000</td>\n",
       "      <td>135</td>\n",
       "      <td>79</td>\n",
       "      <td>50</td>\n",
       "      <td>-11</td>\n",
       "      <td>17</td>\n",
       "      <td>81</td>\n",
       "      <td>207</td>\n",
       "      <td>17</td>\n",
       "      <td>7</td>\n",
       "      <td>39</td>\n",
       "      <td>Rock</td>\n",
       "    </tr>\n",
       "    <tr>\n",
       "      <th>2</th>\n",
       "      <td>3</td>\n",
       "      <td>Clint Eastwood</td>\n",
       "      <td>Gorillaz</td>\n",
       "      <td>alternative hip hop</td>\n",
       "      <td>2001</td>\n",
       "      <td>168</td>\n",
       "      <td>69</td>\n",
       "      <td>66</td>\n",
       "      <td>-9</td>\n",
       "      <td>7</td>\n",
       "      <td>52</td>\n",
       "      <td>341</td>\n",
       "      <td>2</td>\n",
       "      <td>17</td>\n",
       "      <td>69</td>\n",
       "      <td>Hip Hop</td>\n",
       "    </tr>\n",
       "    <tr>\n",
       "      <th>3</th>\n",
       "      <td>4</td>\n",
       "      <td>The Pretender</td>\n",
       "      <td>Foo Fighters</td>\n",
       "      <td>alternative metal</td>\n",
       "      <td>2007</td>\n",
       "      <td>173</td>\n",
       "      <td>96</td>\n",
       "      <td>43</td>\n",
       "      <td>-4</td>\n",
       "      <td>3</td>\n",
       "      <td>37</td>\n",
       "      <td>269</td>\n",
       "      <td>0</td>\n",
       "      <td>4</td>\n",
       "      <td>76</td>\n",
       "      <td>Metal</td>\n",
       "    </tr>\n",
       "    <tr>\n",
       "      <th>4</th>\n",
       "      <td>5</td>\n",
       "      <td>Waitin' On A Sunny Day</td>\n",
       "      <td>Bruce Springsteen</td>\n",
       "      <td>classic rock</td>\n",
       "      <td>2002</td>\n",
       "      <td>106</td>\n",
       "      <td>82</td>\n",
       "      <td>58</td>\n",
       "      <td>-5</td>\n",
       "      <td>10</td>\n",
       "      <td>87</td>\n",
       "      <td>256</td>\n",
       "      <td>1</td>\n",
       "      <td>3</td>\n",
       "      <td>59</td>\n",
       "      <td>Rock</td>\n",
       "    </tr>\n",
       "    <tr>\n",
       "      <th>...</th>\n",
       "      <td>...</td>\n",
       "      <td>...</td>\n",
       "      <td>...</td>\n",
       "      <td>...</td>\n",
       "      <td>...</td>\n",
       "      <td>...</td>\n",
       "      <td>...</td>\n",
       "      <td>...</td>\n",
       "      <td>...</td>\n",
       "      <td>...</td>\n",
       "      <td>...</td>\n",
       "      <td>...</td>\n",
       "      <td>...</td>\n",
       "      <td>...</td>\n",
       "      <td>...</td>\n",
       "      <td>...</td>\n",
       "    </tr>\n",
       "    <tr>\n",
       "      <th>1989</th>\n",
       "      <td>1990</td>\n",
       "      <td>Heartbreak Hotel</td>\n",
       "      <td>Elvis Presley</td>\n",
       "      <td>adult standards</td>\n",
       "      <td>1958</td>\n",
       "      <td>94</td>\n",
       "      <td>21</td>\n",
       "      <td>70</td>\n",
       "      <td>-12</td>\n",
       "      <td>11</td>\n",
       "      <td>72</td>\n",
       "      <td>128</td>\n",
       "      <td>84</td>\n",
       "      <td>7</td>\n",
       "      <td>63</td>\n",
       "      <td>Pop</td>\n",
       "    </tr>\n",
       "    <tr>\n",
       "      <th>1990</th>\n",
       "      <td>1991</td>\n",
       "      <td>Hound Dog</td>\n",
       "      <td>Elvis Presley</td>\n",
       "      <td>adult standards</td>\n",
       "      <td>1958</td>\n",
       "      <td>175</td>\n",
       "      <td>76</td>\n",
       "      <td>36</td>\n",
       "      <td>-8</td>\n",
       "      <td>76</td>\n",
       "      <td>95</td>\n",
       "      <td>136</td>\n",
       "      <td>73</td>\n",
       "      <td>6</td>\n",
       "      <td>69</td>\n",
       "      <td>Pop</td>\n",
       "    </tr>\n",
       "    <tr>\n",
       "      <th>1991</th>\n",
       "      <td>1992</td>\n",
       "      <td>Johnny B. Goode</td>\n",
       "      <td>Chuck Berry</td>\n",
       "      <td>blues rock</td>\n",
       "      <td>1959</td>\n",
       "      <td>168</td>\n",
       "      <td>80</td>\n",
       "      <td>53</td>\n",
       "      <td>-9</td>\n",
       "      <td>31</td>\n",
       "      <td>97</td>\n",
       "      <td>162</td>\n",
       "      <td>74</td>\n",
       "      <td>7</td>\n",
       "      <td>74</td>\n",
       "      <td>Rock</td>\n",
       "    </tr>\n",
       "    <tr>\n",
       "      <th>1992</th>\n",
       "      <td>1993</td>\n",
       "      <td>Take Five</td>\n",
       "      <td>The Dave Brubeck Quartet</td>\n",
       "      <td>bebop</td>\n",
       "      <td>1959</td>\n",
       "      <td>174</td>\n",
       "      <td>26</td>\n",
       "      <td>45</td>\n",
       "      <td>-13</td>\n",
       "      <td>7</td>\n",
       "      <td>60</td>\n",
       "      <td>324</td>\n",
       "      <td>54</td>\n",
       "      <td>4</td>\n",
       "      <td>65</td>\n",
       "      <td>Jazz</td>\n",
       "    </tr>\n",
       "    <tr>\n",
       "      <th>1993</th>\n",
       "      <td>1994</td>\n",
       "      <td>Blueberry Hill</td>\n",
       "      <td>Fats Domino</td>\n",
       "      <td>adult standards</td>\n",
       "      <td>1959</td>\n",
       "      <td>133</td>\n",
       "      <td>50</td>\n",
       "      <td>49</td>\n",
       "      <td>-10</td>\n",
       "      <td>16</td>\n",
       "      <td>83</td>\n",
       "      <td>148</td>\n",
       "      <td>74</td>\n",
       "      <td>3</td>\n",
       "      <td>56</td>\n",
       "      <td>Pop</td>\n",
       "    </tr>\n",
       "  </tbody>\n",
       "</table>\n",
       "<p>1994 rows × 16 columns</p>\n",
       "</div>"
      ],
      "text/plain": [
       "      Index                   Title                    Artist  \\\n",
       "0         1                 Sunrise               Norah Jones   \n",
       "1         2             Black Night               Deep Purple   \n",
       "2         3          Clint Eastwood                  Gorillaz   \n",
       "3         4           The Pretender              Foo Fighters   \n",
       "4         5  Waitin' On A Sunny Day         Bruce Springsteen   \n",
       "...     ...                     ...                       ...   \n",
       "1989   1990        Heartbreak Hotel             Elvis Presley   \n",
       "1990   1991               Hound Dog             Elvis Presley   \n",
       "1991   1992         Johnny B. Goode               Chuck Berry   \n",
       "1992   1993               Take Five  The Dave Brubeck Quartet   \n",
       "1993   1994          Blueberry Hill               Fats Domino   \n",
       "\n",
       "                Top Genre  Year  Beats Per Minute (BPM)  Energy  Danceability  \\\n",
       "0         adult standards  2004                     157      30            53   \n",
       "1              album rock  2000                     135      79            50   \n",
       "2     alternative hip hop  2001                     168      69            66   \n",
       "3       alternative metal  2007                     173      96            43   \n",
       "4            classic rock  2002                     106      82            58   \n",
       "...                   ...   ...                     ...     ...           ...   \n",
       "1989      adult standards  1958                      94      21            70   \n",
       "1990      adult standards  1958                     175      76            36   \n",
       "1991           blues rock  1959                     168      80            53   \n",
       "1992                bebop  1959                     174      26            45   \n",
       "1993      adult standards  1959                     133      50            49   \n",
       "\n",
       "      Loudness (dB)  Liveness  Valence Length (Duration)  Acousticness  \\\n",
       "0               -14        11       68               201            94   \n",
       "1               -11        17       81               207            17   \n",
       "2                -9         7       52               341             2   \n",
       "3                -4         3       37               269             0   \n",
       "4                -5        10       87               256             1   \n",
       "...             ...       ...      ...               ...           ...   \n",
       "1989            -12        11       72               128            84   \n",
       "1990             -8        76       95               136            73   \n",
       "1991             -9        31       97               162            74   \n",
       "1992            -13         7       60               324            54   \n",
       "1993            -10        16       83               148            74   \n",
       "\n",
       "      Speechiness  Popularity    Genre  \n",
       "0               3          71      Pop  \n",
       "1               7          39     Rock  \n",
       "2              17          69  Hip Hop  \n",
       "3               4          76    Metal  \n",
       "4               3          59     Rock  \n",
       "...           ...         ...      ...  \n",
       "1989            7          63      Pop  \n",
       "1990            6          69      Pop  \n",
       "1991            7          74     Rock  \n",
       "1992            4          65     Jazz  \n",
       "1993            3          56      Pop  \n",
       "\n",
       "[1994 rows x 16 columns]"
      ]
     },
     "execution_count": 14,
     "metadata": {},
     "output_type": "execute_result"
    }
   ],
   "source": [
    "spotify['Genre'] = spotify['Top Genre'].map(genre_mapping).fillna(default_category)\n",
    "spotify"
   ]
  },
  {
   "cell_type": "code",
   "execution_count": 15,
   "id": "653c3413",
   "metadata": {},
   "outputs": [
    {
     "data": {
      "text/plain": [
       "array(['Pop', 'Rock', 'Hip Hop', 'Metal', 'Other', 'World/Regional',\n",
       "       'Electronic', 'Soul', 'Folk', 'Disco', 'Country', 'Reggae', 'Jazz',\n",
       "       'Indie', 'Blues', 'Latin', 'Funk'], dtype=object)"
      ]
     },
     "execution_count": 15,
     "metadata": {},
     "output_type": "execute_result"
    }
   ],
   "source": [
    "spotify['Genre'].unique()"
   ]
  },
  {
   "cell_type": "code",
   "execution_count": 16,
   "id": "94cbbda6",
   "metadata": {},
   "outputs": [
    {
     "data": {
      "text/plain": [
       "Genre\n",
       "Rock              819\n",
       "Pop               652\n",
       "Other             106\n",
       "Metal              93\n",
       "Folk               65\n",
       "Electronic         56\n",
       "Soul               46\n",
       "Hip Hop            36\n",
       "World/Regional     29\n",
       "Country            20\n",
       "Disco              18\n",
       "Indie              15\n",
       "Funk               13\n",
       "Reggae             12\n",
       "Blues               8\n",
       "Jazz                4\n",
       "Latin               2\n",
       "Name: count, dtype: int64"
      ]
     },
     "execution_count": 16,
     "metadata": {},
     "output_type": "execute_result"
    }
   ],
   "source": [
    "spotify['Genre'].value_counts()"
   ]
  },
  {
   "cell_type": "code",
   "execution_count": 17,
   "id": "5cb7a922",
   "metadata": {},
   "outputs": [],
   "source": [
    "spotify.drop(columns = [\"Index\", \"Top Genre\"], inplace = True)"
   ]
  },
  {
   "cell_type": "markdown",
   "id": "fa87f4e1",
   "metadata": {},
   "source": [
    "## Year"
   ]
  },
  {
   "cell_type": "code",
   "execution_count": 18,
   "id": "0b4b0b3e",
   "metadata": {},
   "outputs": [
    {
     "data": {
      "text/plain": [
       "0       2004\n",
       "1       2000\n",
       "2       2001\n",
       "3       2007\n",
       "4       2002\n",
       "        ... \n",
       "1989    1958\n",
       "1990    1958\n",
       "1991    1959\n",
       "1992    1959\n",
       "1993    1959\n",
       "Name: Year, Length: 1994, dtype: int64"
      ]
     },
     "execution_count": 18,
     "metadata": {},
     "output_type": "execute_result"
    }
   ],
   "source": [
    "spotify[\"Year\"]"
   ]
  },
  {
   "cell_type": "markdown",
   "id": "c1c22a55",
   "metadata": {},
   "source": [
    "## Beats Per Minute (BPM)"
   ]
  },
  {
   "cell_type": "code",
   "execution_count": 19,
   "id": "0014fbe1",
   "metadata": {},
   "outputs": [
    {
     "data": {
      "text/plain": [
       "0       157\n",
       "1       135\n",
       "2       168\n",
       "3       173\n",
       "4       106\n",
       "       ... \n",
       "1989     94\n",
       "1990    175\n",
       "1991    168\n",
       "1992    174\n",
       "1993    133\n",
       "Name: Beats Per Minute (BPM), Length: 1994, dtype: int64"
      ]
     },
     "execution_count": 19,
     "metadata": {},
     "output_type": "execute_result"
    }
   ],
   "source": [
    "spotify[\"Beats Per Minute (BPM)\"]"
   ]
  },
  {
   "cell_type": "markdown",
   "id": "d5f9b600",
   "metadata": {},
   "source": [
    "## Energy "
   ]
  },
  {
   "cell_type": "code",
   "execution_count": 20,
   "id": "0a5f181f",
   "metadata": {},
   "outputs": [
    {
     "data": {
      "text/plain": [
       "0       30\n",
       "1       79\n",
       "2       69\n",
       "3       96\n",
       "4       82\n",
       "        ..\n",
       "1989    21\n",
       "1990    76\n",
       "1991    80\n",
       "1992    26\n",
       "1993    50\n",
       "Name: Energy, Length: 1994, dtype: int64"
      ]
     },
     "execution_count": 20,
     "metadata": {},
     "output_type": "execute_result"
    }
   ],
   "source": [
    "spotify[\"Energy\"]"
   ]
  },
  {
   "cell_type": "markdown",
   "id": "d926ba2e",
   "metadata": {},
   "source": [
    "## Danceability"
   ]
  },
  {
   "cell_type": "code",
   "execution_count": 21,
   "id": "6c7bc1cd",
   "metadata": {},
   "outputs": [
    {
     "data": {
      "text/plain": [
       "0       53\n",
       "1       50\n",
       "2       66\n",
       "3       43\n",
       "4       58\n",
       "        ..\n",
       "1989    70\n",
       "1990    36\n",
       "1991    53\n",
       "1992    45\n",
       "1993    49\n",
       "Name: Danceability, Length: 1994, dtype: int64"
      ]
     },
     "execution_count": 21,
     "metadata": {},
     "output_type": "execute_result"
    }
   ],
   "source": [
    "spotify[\"Danceability\"]"
   ]
  },
  {
   "cell_type": "markdown",
   "id": "33a10a5d",
   "metadata": {},
   "source": [
    "## Loudness (dB)"
   ]
  },
  {
   "cell_type": "code",
   "execution_count": 22,
   "id": "607a9cdf",
   "metadata": {},
   "outputs": [
    {
     "data": {
      "text/plain": [
       "0      -14\n",
       "1      -11\n",
       "2       -9\n",
       "3       -4\n",
       "4       -5\n",
       "        ..\n",
       "1989   -12\n",
       "1990    -8\n",
       "1991    -9\n",
       "1992   -13\n",
       "1993   -10\n",
       "Name: Loudness (dB), Length: 1994, dtype: int64"
      ]
     },
     "execution_count": 22,
     "metadata": {},
     "output_type": "execute_result"
    }
   ],
   "source": [
    "spotify[\"Loudness (dB)\"]"
   ]
  },
  {
   "cell_type": "markdown",
   "id": "4467fb75",
   "metadata": {},
   "source": [
    "## Liveness"
   ]
  },
  {
   "cell_type": "code",
   "execution_count": 23,
   "id": "cc4a728f",
   "metadata": {},
   "outputs": [
    {
     "data": {
      "text/plain": [
       "0       11\n",
       "1       17\n",
       "2        7\n",
       "3        3\n",
       "4       10\n",
       "        ..\n",
       "1989    11\n",
       "1990    76\n",
       "1991    31\n",
       "1992     7\n",
       "1993    16\n",
       "Name: Liveness, Length: 1994, dtype: int64"
      ]
     },
     "execution_count": 23,
     "metadata": {},
     "output_type": "execute_result"
    }
   ],
   "source": [
    "spotify[\"Liveness\"]"
   ]
  },
  {
   "cell_type": "markdown",
   "id": "d2c1655b",
   "metadata": {},
   "source": [
    "## Valence"
   ]
  },
  {
   "cell_type": "code",
   "execution_count": 24,
   "id": "b1bb6ad5",
   "metadata": {},
   "outputs": [
    {
     "data": {
      "text/plain": [
       "0       68\n",
       "1       81\n",
       "2       52\n",
       "3       37\n",
       "4       87\n",
       "        ..\n",
       "1989    72\n",
       "1990    95\n",
       "1991    97\n",
       "1992    60\n",
       "1993    83\n",
       "Name: Valence, Length: 1994, dtype: int64"
      ]
     },
     "execution_count": 24,
     "metadata": {},
     "output_type": "execute_result"
    }
   ],
   "source": [
    "spotify[\"Valence\"]"
   ]
  },
  {
   "cell_type": "markdown",
   "id": "e005c6e2",
   "metadata": {},
   "source": [
    "## Length (Duration)"
   ]
  },
  {
   "cell_type": "code",
   "execution_count": 25,
   "id": "10fe9663",
   "metadata": {},
   "outputs": [
    {
     "data": {
      "text/plain": [
       "0       201\n",
       "1       207\n",
       "2       341\n",
       "3       269\n",
       "4       256\n",
       "       ... \n",
       "1989    128\n",
       "1990    136\n",
       "1991    162\n",
       "1992    324\n",
       "1993    148\n",
       "Name: Length (Duration), Length: 1994, dtype: object"
      ]
     },
     "execution_count": 25,
     "metadata": {},
     "output_type": "execute_result"
    }
   ],
   "source": [
    "spotify[\"Length (Duration)\"]"
   ]
  },
  {
   "cell_type": "code",
   "execution_count": 26,
   "id": "526ef311",
   "metadata": {},
   "outputs": [
    {
     "data": {
      "text/plain": [
       "array(['201', '207', '341', '269', '256', '247', '257', '366', '223',\n",
       "       '290', '162', '232', '214', '639', '173', '236', '288', '276',\n",
       "       '352', '296', '218', '176', '197', '261', '270', '298', '259',\n",
       "       '306', '310', '211', '186', '185', '264', '202', '263', '266',\n",
       "       '629', '177', '237', '278', '331', '355', '213', '234', '216',\n",
       "       '275', '467', '243', '219', '305', '215', '144', '195', '240',\n",
       "       '357', '297', '281', '273', '212', '279', '249', '229', '394',\n",
       "       '375', '226', '210', '258', '283', '231', '268', '403', '321',\n",
       "       '217', '308', '206', '208', '242', '326', '199', '225', '193',\n",
       "       '302', '294', '238', '433', '324', '154', '245', '248', '311',\n",
       "       '272', '289', '253', '181', '184', '203', '280', '146', '196',\n",
       "       '204', '602', '353', '189', '423', '233', '135', '141', '241',\n",
       "       '262', '346', '319', '284', '501', '287', '170', '187', '171',\n",
       "       '414', '252', '209', '364', '246', '235', '161', '274', '286',\n",
       "       '172', '404', '239', '244', '291', '251', '260', '190', '122',\n",
       "       '336', '228', '222', '267', '220', '139', '227', '277', '125',\n",
       "       '335', '386', '376', '150', '174', '317', '343', '192', '137',\n",
       "       '345', '303', '136', '295', '194', '224', '451', '347', '332',\n",
       "       '250', '282', '312', '200', '322', '198', '379', '230', '205',\n",
       "       '183', '330', '320', '140', '328', '182', '221', '165', '188',\n",
       "       '285', '339', '265', '526', '175', '809', '315', '158', '255',\n",
       "       '301', '163', '148', '304', '484', '373', '456', '532', '299',\n",
       "       '159', '348', '167', '468', '254', '293', '155', '384', '157',\n",
       "       '405', '598', '382', '427', '318', '358', '180', '360', '391',\n",
       "       '671', '152', '191', '179', '292', '455', '620', '168', '160',\n",
       "       '309', '147', '344', '663', '444', '166', '483', '435', '1,412',\n",
       "       '271', '300', '342', '471', '502', '517', '377', '443', '108',\n",
       "       '388', '511', '350', '581', '102', '153', '1,121', '387', '559',\n",
       "       '383', '469', '575', '313', '421', '349', '169', '333', '1,367',\n",
       "       '410', '149', '354', '811', '508', '428', '367', '576', '325',\n",
       "       '525', '715', '445', '513', '323', '362', '399', '134', '371',\n",
       "       '653', '334', '488', '590', '314', '93', '457', '448', '327',\n",
       "       '138', '365', '351', '361', '966', '489', '452', '859', '407',\n",
       "       '478', '408', '458', '409', '521', '340', '368', '156', '417',\n",
       "       '434', '419', '356', '506', '178', '515', '401', '338', '418',\n",
       "       '406', '142', '446', '390', '659', '337', '395', '536', '389',\n",
       "       '393', '564', '385', '438', '374', '316', '378', '527', '411',\n",
       "       '396', '430', '164', '126', '370', '127', '123', '120', '703',\n",
       "       '151', '130', '413', '450', '449', '1,292', '119', '128'],\n",
       "      dtype=object)"
      ]
     },
     "execution_count": 26,
     "metadata": {},
     "output_type": "execute_result"
    }
   ],
   "source": [
    "spotify[\"Length (Duration)\"].unique()"
   ]
  },
  {
   "cell_type": "code",
   "execution_count": 27,
   "id": "3e4c758b",
   "metadata": {},
   "outputs": [],
   "source": [
    "spotify[\"Length (Duration)\"] = spotify[\"Length (Duration)\"].str.replace(\",\", \"\").astype(int)"
   ]
  },
  {
   "cell_type": "code",
   "execution_count": 28,
   "id": "becf3962",
   "metadata": {},
   "outputs": [
    {
     "data": {
      "text/plain": [
       "0       201\n",
       "1       207\n",
       "2       341\n",
       "3       269\n",
       "4       256\n",
       "       ... \n",
       "1989    128\n",
       "1990    136\n",
       "1991    162\n",
       "1992    324\n",
       "1993    148\n",
       "Name: Length (Duration), Length: 1994, dtype: int32"
      ]
     },
     "execution_count": 28,
     "metadata": {},
     "output_type": "execute_result"
    }
   ],
   "source": [
    "spotify[\"Length (Duration)\"]"
   ]
  },
  {
   "cell_type": "markdown",
   "id": "724fd6a6",
   "metadata": {},
   "source": [
    "## Acousticness"
   ]
  },
  {
   "cell_type": "code",
   "execution_count": 29,
   "id": "9c7b08e7",
   "metadata": {},
   "outputs": [
    {
     "data": {
      "text/plain": [
       "0       94\n",
       "1       17\n",
       "2        2\n",
       "3        0\n",
       "4        1\n",
       "        ..\n",
       "1989    84\n",
       "1990    73\n",
       "1991    74\n",
       "1992    54\n",
       "1993    74\n",
       "Name: Acousticness, Length: 1994, dtype: int64"
      ]
     },
     "execution_count": 29,
     "metadata": {},
     "output_type": "execute_result"
    }
   ],
   "source": [
    "spotify[\"Acousticness\"]"
   ]
  },
  {
   "cell_type": "markdown",
   "id": "0caa8254",
   "metadata": {},
   "source": [
    "## Speechiness"
   ]
  },
  {
   "cell_type": "code",
   "execution_count": 30,
   "id": "80deb7bb",
   "metadata": {},
   "outputs": [
    {
     "data": {
      "text/plain": [
       "0        3\n",
       "1        7\n",
       "2       17\n",
       "3        4\n",
       "4        3\n",
       "        ..\n",
       "1989     7\n",
       "1990     6\n",
       "1991     7\n",
       "1992     4\n",
       "1993     3\n",
       "Name: Speechiness, Length: 1994, dtype: int64"
      ]
     },
     "execution_count": 30,
     "metadata": {},
     "output_type": "execute_result"
    }
   ],
   "source": [
    "spotify[\"Speechiness\"]"
   ]
  },
  {
   "cell_type": "markdown",
   "id": "354d2880",
   "metadata": {},
   "source": [
    "## Popularity"
   ]
  },
  {
   "cell_type": "code",
   "execution_count": 31,
   "id": "6474a562",
   "metadata": {},
   "outputs": [
    {
     "data": {
      "text/plain": [
       "0       71\n",
       "1       39\n",
       "2       69\n",
       "3       76\n",
       "4       59\n",
       "        ..\n",
       "1989    63\n",
       "1990    69\n",
       "1991    74\n",
       "1992    65\n",
       "1993    56\n",
       "Name: Popularity, Length: 1994, dtype: int64"
      ]
     },
     "execution_count": 31,
     "metadata": {},
     "output_type": "execute_result"
    }
   ],
   "source": [
    "spotify[\"Popularity\"]"
   ]
  },
  {
   "cell_type": "markdown",
   "id": "6bf567a3",
   "metadata": {},
   "source": [
    "## Reordering the columns"
   ]
  },
  {
   "cell_type": "code",
   "execution_count": 32,
   "id": "167a66dc",
   "metadata": {},
   "outputs": [],
   "source": [
    "spotify = spotify[['Title', 'Artist', 'Year', 'Genre', 'Beats Per Minute (BPM)', 'Energy',\n",
    "       'Danceability', 'Loudness (dB)', 'Liveness', 'Valence',\n",
    "       'Length (Duration)', 'Acousticness', 'Speechiness', 'Popularity']]"
   ]
  },
  {
   "cell_type": "code",
   "execution_count": 33,
   "id": "ef53eb7b",
   "metadata": {},
   "outputs": [
    {
     "data": {
      "text/plain": [
       "Index(['Title', 'Artist', 'Year', 'Genre', 'Beats Per Minute (BPM)', 'Energy',\n",
       "       'Danceability', 'Loudness (dB)', 'Liveness', 'Valence',\n",
       "       'Length (Duration)', 'Acousticness', 'Speechiness', 'Popularity'],\n",
       "      dtype='object')"
      ]
     },
     "execution_count": 33,
     "metadata": {},
     "output_type": "execute_result"
    }
   ],
   "source": [
    "spotify.columns"
   ]
  },
  {
   "cell_type": "markdown",
   "id": "66614866",
   "metadata": {},
   "source": [
    "- checking that the dataset is ok before saving it"
   ]
  },
  {
   "cell_type": "code",
   "execution_count": 34,
   "id": "cda8ba14",
   "metadata": {},
   "outputs": [
    {
     "name": "stdout",
     "output_type": "stream",
     "text": [
      "<class 'pandas.core.frame.DataFrame'>\n",
      "RangeIndex: 1994 entries, 0 to 1993\n",
      "Data columns (total 14 columns):\n",
      " #   Column                  Non-Null Count  Dtype \n",
      "---  ------                  --------------  ----- \n",
      " 0   Title                   1994 non-null   object\n",
      " 1   Artist                  1994 non-null   object\n",
      " 2   Year                    1994 non-null   int64 \n",
      " 3   Genre                   1994 non-null   object\n",
      " 4   Beats Per Minute (BPM)  1994 non-null   int64 \n",
      " 5   Energy                  1994 non-null   int64 \n",
      " 6   Danceability            1994 non-null   int64 \n",
      " 7   Loudness (dB)           1994 non-null   int64 \n",
      " 8   Liveness                1994 non-null   int64 \n",
      " 9   Valence                 1994 non-null   int64 \n",
      " 10  Length (Duration)       1994 non-null   int32 \n",
      " 11  Acousticness            1994 non-null   int64 \n",
      " 12  Speechiness             1994 non-null   int64 \n",
      " 13  Popularity              1994 non-null   int64 \n",
      "dtypes: int32(1), int64(10), object(3)\n",
      "memory usage: 210.4+ KB\n"
     ]
    }
   ],
   "source": [
    "spotify.info()"
   ]
  },
  {
   "cell_type": "markdown",
   "id": "e9e27b70",
   "metadata": {},
   "source": [
    "- saving the dataset for further analysis"
   ]
  },
  {
   "cell_type": "code",
   "execution_count": 35,
   "id": "2b37581e",
   "metadata": {},
   "outputs": [],
   "source": [
    "spotify.to_csv(\"spotify.csv\", index = False)"
   ]
  },
  {
   "cell_type": "code",
   "execution_count": null,
   "id": "6812db8e",
   "metadata": {},
   "outputs": [],
   "source": []
  },
  {
   "cell_type": "code",
   "execution_count": null,
   "id": "e6c56193",
   "metadata": {},
   "outputs": [],
   "source": []
  }
 ],
 "metadata": {
  "kernelspec": {
   "display_name": "Python 3 (ipykernel)",
   "language": "python",
   "name": "python3"
  },
  "language_info": {
   "codemirror_mode": {
    "name": "ipython",
    "version": 3
   },
   "file_extension": ".py",
   "mimetype": "text/x-python",
   "name": "python",
   "nbconvert_exporter": "python",
   "pygments_lexer": "ipython3",
   "version": "3.11.5"
  }
 },
 "nbformat": 4,
 "nbformat_minor": 5
}
